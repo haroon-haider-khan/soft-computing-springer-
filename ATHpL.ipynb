{
  "nbformat": 4,
  "nbformat_minor": 0,
  "metadata": {
    "colab": {
      "provenance": [],
      "machine_shape": "hm"
    },
    "kernelspec": {
      "name": "python3",
      "display_name": "Python 3"
    },
    "language_info": {
      "name": "python"
    },
    "gpuClass": "standard",
    "accelerator": "GPU"
  },
  "cells": [
    {
      "cell_type": "markdown",
      "source": [
        "Main contribution ATHpL loss function"
      ],
      "metadata": {
        "id": "_eCr5Wl-YR34"
      }
    },
    {
      "cell_type": "code",
      "source": [
        "def focalLoss(alpha=0.2, gamma=3, rate=0.1, weights=0, bias=0):\n",
        "    def customloss(y_true, y_pred):\n",
        "        y_true = tf.cast(y_true, tf.float32)\n",
        "\n",
        "# forward pass\n",
        "         weighted_sum = tf.math.abs(tf.cast(weights*gamma + bias, tf.float32))\n",
        "\n",
        "\n",
        "        y_predicted = tf.math.abs(tf.nn.sigmoid(weighted_sum))\n",
        "# backword pass\n",
        "        gamma_d = tf.math.reduce_mean(y_predicted-y_true)\n",
        "        bias_d = tf.math.reduce_mean(y_predicted-y_true)\n",
        "\n",
        "        gamma_ = tf.math.round(gamma - rate * gamma_d)\n",
        "\n",
        "        ce = tf.nn.sigmoid_cross_entropy_with_logits(\n",
        "                labels=y_true, logits=y_pred)\n",
        "        alpha1 = y_true * alpha + (1. - y_true) * (1. - alpha)\n",
        "\n",
        "        pt = tf.where(y_true==1, x=y_pred, y=1-y_pred)\n",
        "        F_loss =  alpha1 * (1. - pt) ** gamma_ * ce\n",
        "        return tf.reduce_mean(F_loss)\n",
        "    return customloss"
      ],
      "metadata": {
        "id": "_LyQA3Gw2W_q"
      },
      "execution_count": null,
      "outputs": []
    }
  ]
}